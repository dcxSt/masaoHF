{
 "cells": [
  {
   "cell_type": "code",
   "execution_count": 93,
   "metadata": {},
   "outputs": [],
   "source": [
    "import os\n",
    "import pandas as pd\n",
    "import numpy as np\n",
    "import matplotlib.pyplot as plt"
   ]
  },
  {
   "cell_type": "code",
   "execution_count": 161,
   "metadata": {},
   "outputs": [],
   "source": [
    "all_words = []\n",
    "string_of_vid = {}\n",
    "words_in_vid = {}\n",
    "lines_in_vid = {}\n",
    "for filename in [i for i in os.listdir('./txt/') if '.txt' in i]:\n",
    "    f = open(filename,'r')\n",
    "    content = f.read()\n",
    "    lines_in_vid[filename] = content.split('\\n')\n",
    "    content = content.replace('\\n',' ')\n",
    "    string_of_vid[filename] = content\n",
    "    words = content.split(' ')\n",
    "    words = [w for w in words if w!='']\n",
    "    words_in_vid[filename] = content\n",
    "    for word in words:\n",
    "        all_words.append(word)\n",
    "    f.close()"
   ]
  },
  {
   "cell_type": "code",
   "execution_count": 189,
   "metadata": {},
   "outputs": [],
   "source": [
    "# method that returns the files and lines where a word is\n",
    "def search_word(word='Montreal'):\n",
    "    \"\"\"\n",
    "    input\n",
    "        word (str)\n",
    "    output\n",
    "        tuple (filename, line, index of line in txt file)\n",
    "    \"\"\"\n",
    "    occurences = []\n",
    "    for filename in lines_in_vid:\n",
    "        for line in lines_in_vid[filename]:\n",
    "#             print(line)\n",
    "            if word in line:\n",
    "                occurences.append((filename,line,lines_in_vid[filename].index(line)))\n",
    "    print(len(occurences),'occurences found in total\\n')\n",
    "    return occurences"
   ]
  },
  {
   "cell_type": "code",
   "execution_count": 196,
   "metadata": {},
   "outputs": [],
   "source": [
    "# method tha takes word and filename and displays the lines surrounding the word\n",
    "def display_neighbourhood(filename,index,epsilon=3):\n",
    "    lines = lines_in_vid[filename]\n",
    "    for idx in range(max(0,index-epsilon),min(len(lines),index+epsilon+1)):\n",
    "        print(lines[idx])\n",
    "    \n",
    "def display_neighbourhood_of_word(word='Montreal',epsilon=3):\n",
    "    occurences = search_word(word)\n",
    "    for i in occurences:\n",
    "        print()\n",
    "        display_neighbourhood(filename=i[0],index=i[2],epsilon=epsilon)\n",
    "        \n",
    "def store_neighbourhood_of_word(word='Montreal',epsilon=3):\n",
    "    occurences = search_word(word)\n",
    "    f = open('occurence_of_{}_epsilon={}.txt'.format(word,epsilon),'w')\n",
    "    for i in occurences:\n",
    "        filename = i[0]\n",
    "        index = i[2]\n",
    "        lines = lines_in_vid[filename]\n",
    "        for idx in range(max(0,index-epsilon),min(len(lines),index+epsilon+1)):\n",
    "            f.write(lines[idx]+'\\n')\n",
    "        f.write('\\n')\n",
    "    f.close()"
   ]
  },
  {
   "cell_type": "code",
   "execution_count": 198,
   "metadata": {
    "scrolled": false
   },
   "outputs": [
    {
     "name": "stdout",
     "output_type": "stream",
     "text": [
      "13 occurences found in total\n",
      "\n"
     ]
    }
   ],
   "source": [
    "# display_neighbourhood_of_word('Montreal')\n",
    "store_neighbourhood_of_word('Montreal')"
   ]
  },
  {
   "cell_type": "code",
   "execution_count": 167,
   "metadata": {
    "scrolled": true
   },
   "outputs": [
    {
     "name": "stdout",
     "output_type": "stream",
     "text": [
      "ha ha ha ha ha ha ha ha ha ha ha ha ha "
     ]
    }
   ],
   "source": [
    "o = search_word('Montreal')"
   ]
  },
  {
   "cell_type": "code",
   "execution_count": 168,
   "metadata": {},
   "outputs": [
    {
     "data": {
      "text/plain": [
       "[('Chicken and Oranges.en.txt', 'at the Montreal Forum some time ago I', 428),\n",
       " ('About horses.en.txt', \"it's in Montreal right next to the\", 114),\n",
       " ('Car problems in the morning.en.txt',\n",
       "  'she look it up the Montreal grocery',\n",
       "  83),\n",
       " ('A few updates....en.txt', 'in the the courthouse in Montreal today', 16),\n",
       " ('Adventures of Maso.en_2.txt',\n",
       "  'have the best restaurant in Montreal go',\n",
       "  52),\n",
       " ('Adventures of Masao.en.txt', 'have the best restaurant in Montreal go', 52),\n",
       " ('Looking through old papers....en.txt',\n",
       "  'to many places including Montreal so',\n",
       "  74),\n",
       " ('Looking through old papers....en.txt',\n",
       "  'at Montreal people are escaping their',\n",
       "  80),\n",
       " ('Looking through old papers....en.txt',\n",
       "  'building in Montreal right near the the',\n",
       "  82),\n",
       " ('Looking through old papers....en.txt',\n",
       "  'through Montreal and some people were',\n",
       "  161),\n",
       " ('Looking through old papers....en.txt',\n",
       "  'Montreal people kind of involved in in',\n",
       "  163),\n",
       " ('Looking through old papers....en.txt',\n",
       "  'about ten young guys in Montreal high',\n",
       "  221),\n",
       " ('Coffee Machine Problems.en.txt',\n",
       "  'that guys in Montreal get a coffeemaker',\n",
       "  14)]"
      ]
     },
     "execution_count": 168,
     "metadata": {},
     "output_type": "execute_result"
    }
   ],
   "source": [
    "o"
   ]
  },
  {
   "cell_type": "code",
   "execution_count": null,
   "metadata": {},
   "outputs": [],
   "source": []
  },
  {
   "cell_type": "code",
   "execution_count": null,
   "metadata": {},
   "outputs": [],
   "source": []
  },
  {
   "cell_type": "code",
   "execution_count": 98,
   "metadata": {
    "scrolled": true
   },
   "outputs": [],
   "source": [
    "sorted_words = all_words[:]\n",
    "sorted_words.sort()"
   ]
  },
  {
   "cell_type": "code",
   "execution_count": 99,
   "metadata": {
    "scrolled": true
   },
   "outputs": [],
   "source": [
    "freq = Counter(sorted_words)\n",
    "# put into array format\n",
    "freq_arr = []\n",
    "for key in freq:\n",
    "    freq_arr.append([freq[key],key])\n",
    "freq_arr.sort(reverse=True)\n",
    "Y,X = np.array(freq_arr).T\n",
    "Y = [int(i) for i in Y]"
   ]
  },
  {
   "cell_type": "code",
   "execution_count": 121,
   "metadata": {
    "scrolled": true
   },
   "outputs": [
    {
     "data": {
      "text/plain": [
       "Text(0.5, 1.0, 'Words He Uses')"
      ]
     },
     "execution_count": 121,
     "metadata": {},
     "output_type": "execute_result"
    },
    {
     "data": {
      "image/png": "[encoded data removed]",
      "text/plain": [
       "<Figure size 720x720 with 1 Axes>"
      ]
     },
     "metadata": {
      "needs_background": "light"
     },
     "output_type": "display_data"
    }
   ],
   "source": [
    "n=50\n",
    "fig,ax = plt.subplots(1,1,figsize=(10,10))\n",
    "plt.plot(np.arange(len(Y[:n])),Y[:n],'x')\n",
    "plt.xticks(ticks=np.arange(len(X[:n])),\n",
    "                   labels=X[:n],rotation=90)\n",
    "plt.title('Words He Uses',fontsize=20)\n"
   ]
  },
  {
   "cell_type": "code",
   "execution_count": null,
   "metadata": {},
   "outputs": [],
   "source": []
  },
  {
   "cell_type": "code",
   "execution_count": null,
   "metadata": {},
   "outputs": [],
   "source": []
  },
  {
   "cell_type": "code",
   "execution_count": null,
   "metadata": {},
   "outputs": [],
   "source": []
  },
  {
   "cell_type": "code",
   "execution_count": null,
   "metadata": {},
   "outputs": [],
   "source": []
  }
 ],
 "metadata": {
  "kernelspec": {
   "display_name": "Python 3",
   "language": "python",
   "name": "python3"
  },
  "language_info": {
   "codemirror_mode": {
    "name": "ipython",
    "version": 3
   },
   "file_extension": ".py",
   "mimetype": "text/x-python",
   "name": "python",
   "nbconvert_exporter": "python",
   "pygments_lexer": "ipython3",
   "version": "3.7.3"
  }
 },
 "nbformat": 4,
 "nbformat_minor": 4
}
